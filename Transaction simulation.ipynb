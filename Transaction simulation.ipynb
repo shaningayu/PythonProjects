{
 "cells": [
  {
   "cell_type": "code",
   "execution_count": 6,
   "id": "aca9107a",
   "metadata": {},
   "outputs": [
    {
     "data": {
      "text/html": [
       "<div>\n",
       "<style scoped>\n",
       "    .dataframe tbody tr th:only-of-type {\n",
       "        vertical-align: middle;\n",
       "    }\n",
       "\n",
       "    .dataframe tbody tr th {\n",
       "        vertical-align: top;\n",
       "    }\n",
       "\n",
       "    .dataframe thead th {\n",
       "        text-align: right;\n",
       "    }\n",
       "</style>\n",
       "<table border=\"1\" class=\"dataframe\">\n",
       "  <thead>\n",
       "    <tr style=\"text-align: right;\">\n",
       "      <th></th>\n",
       "      <th>Action</th>\n",
       "      <th>Person_1</th>\n",
       "      <th>X</th>\n",
       "      <th>Add fee</th>\n",
       "      <th>Person_2</th>\n",
       "      <th>Amount</th>\n",
       "      <th>Transfer_Amount</th>\n",
       "    </tr>\n",
       "  </thead>\n",
       "  <tbody>\n",
       "    <tr>\n",
       "      <th>0</th>\n",
       "      <td>TRANSFER</td>\n",
       "      <td>Henry</td>\n",
       "      <td>Jane</td>\n",
       "      <td>Jane</td>\n",
       "      <td>Jane</td>\n",
       "      <td>0.0</td>\n",
       "      <td>20.0</td>\n",
       "    </tr>\n",
       "    <tr>\n",
       "      <th>1</th>\n",
       "      <td>WITHDRAW</td>\n",
       "      <td>Akinyi</td>\n",
       "      <td>70</td>\n",
       "      <td>100</td>\n",
       "      <td>NaN</td>\n",
       "      <td>100.0</td>\n",
       "      <td>NaN</td>\n",
       "    </tr>\n",
       "    <tr>\n",
       "      <th>2</th>\n",
       "      <td>DEPOSIT</td>\n",
       "      <td>Henry</td>\n",
       "      <td>142</td>\n",
       "      <td>142</td>\n",
       "      <td>NaN</td>\n",
       "      <td>142.0</td>\n",
       "      <td>NaN</td>\n",
       "    </tr>\n",
       "    <tr>\n",
       "      <th>3</th>\n",
       "      <td>WITHDRAW</td>\n",
       "      <td>Mary</td>\n",
       "      <td>23</td>\n",
       "      <td>53</td>\n",
       "      <td>NaN</td>\n",
       "      <td>53.0</td>\n",
       "      <td>NaN</td>\n",
       "    </tr>\n",
       "    <tr>\n",
       "      <th>4</th>\n",
       "      <td>TRANSFER</td>\n",
       "      <td>Henry</td>\n",
       "      <td>Jane</td>\n",
       "      <td>Jane</td>\n",
       "      <td>Jane</td>\n",
       "      <td>0.0</td>\n",
       "      <td>50.0</td>\n",
       "    </tr>\n",
       "  </tbody>\n",
       "</table>\n",
       "</div>"
      ],
      "text/plain": [
       "     Action Person_1     X Add fee Person_2  Amount  Transfer_Amount\n",
       "0  TRANSFER    Henry  Jane    Jane     Jane     0.0             20.0\n",
       "1  WITHDRAW   Akinyi    70     100      NaN   100.0              NaN\n",
       "2   DEPOSIT    Henry   142     142      NaN   142.0              NaN\n",
       "3  WITHDRAW     Mary    23      53      NaN    53.0              NaN\n",
       "4  TRANSFER    Henry  Jane    Jane     Jane     0.0             50.0"
      ]
     },
     "execution_count": 6,
     "metadata": {},
     "output_type": "execute_result"
    }
   ],
   "source": [
    "#Read in the data\n",
    "import pandas as pd\n",
    "data = pd.read_excel(r'C:\\Users\\Shani\\Documents\\Data.xlsx')\n",
    "data.head()"
   ]
  },
  {
   "cell_type": "code",
   "execution_count": 7,
   "id": "fdcd3cd6",
   "metadata": {},
   "outputs": [
    {
     "data": {
      "text/plain": [
       "{'Henry': 314.59999999999997,\n",
       " 'Jane': 2826.89,\n",
       " 'Akinyi': 1747.96,\n",
       " nan: 1260.0,\n",
       " 'Mary': 762.67,\n",
       " 'Wanjiru': 584.4499999999998,\n",
       " 'Lavender': 1163.6999999999998,\n",
       " 'Daisy': 20.0,\n",
       " 'Marigold': 10.0,\n",
       " 'Linda': 1420.25,\n",
       " 'Juma': 4670.51}"
      ]
     },
     "execution_count": 7,
     "metadata": {},
     "output_type": "execute_result"
    }
   ],
   "source": [
    "#create dictionary to store names of individuals and amount.\n",
    "Names_amount={}\n",
    "length=len(data)\n",
    "for i in range(0,length):\n",
    "    if data[\"Person_1\"][i] not in Names_amount: #to add new users to bank directory\n",
    "        Names_amount[data[\"Person_1\"][i]]=0\n",
    "    if data[\"Person_2\"][i] not in Names_amount:\n",
    "        Names_amount[data[\"Person_2\"][i]]=0\n",
    "    if data[\"Action\"][i]==\"TRANSFER\": #to simulate transfer\n",
    "        \n",
    "        if Names_amount[data[\"Person_1\"][i]]>=data[\"Transfer_Amount\"][i]: #to check for sufficient funds\n",
    "            \n",
    "            Names_amount[data[\"Person_1\"][i]]-=data[\"Transfer_Amount\"][i]\n",
    "            Names_amount[data[\"Person_2\"][i]]+=data[\"Transfer_Amount\"][i]\n",
    "    elif data[\"Action\"][i]==\"CREDIT\": #to simulate credit\n",
    "        if Names_amount[data[\"Person_1\"][i]]>=data[\"Amount\"][i]:\n",
    "            \n",
    "            Names_amount[data[\"Person_1\"][i]]-=data[\"Amount\"][i]\n",
    "            Names_amount[data[\"Person_2\"][i]]+=data[\"Amount\"][i]\n",
    "    elif data[\"Action\"][i]==\"WITHDRAW\": #to simulate withdrawal\n",
    "        if Names_amount[data[\"Person_1\"][i]]>=data[\"Amount\"][i]:\n",
    "            \n",
    "            Names_amount[data[\"Person_1\"][i]]-=data[\"Amount\"][i]\n",
    "    elif data[\"Action\"][i]==\"DEPOSIT\": #to simulate deposit\n",
    "        Names_amount[data[\"Person_1\"][i]]+=data[\"Amount\"][i]\n",
    "            \n",
    "Names_amount"
   ]
  },
  {
   "cell_type": "code",
   "execution_count": null,
   "id": "51865a10",
   "metadata": {},
   "outputs": [],
   "source": []
  }
 ],
 "metadata": {
  "kernelspec": {
   "display_name": "Python 3",
   "language": "python",
   "name": "python3"
  },
  "language_info": {
   "codemirror_mode": {
    "name": "ipython",
    "version": 3
   },
   "file_extension": ".py",
   "mimetype": "text/x-python",
   "name": "python",
   "nbconvert_exporter": "python",
   "pygments_lexer": "ipython3",
   "version": "3.8.8"
  }
 },
 "nbformat": 4,
 "nbformat_minor": 5
}
